{
  "nbformat": 4,
  "nbformat_minor": 0,
  "metadata": {
    "colab": {
      "provenance": [],
      "authorship_tag": "ABX9TyMFS9AvDnpU8wJOtlMsWrbJ",
      "include_colab_link": true
    },
    "kernelspec": {
      "name": "python3",
      "display_name": "Python 3"
    },
    "language_info": {
      "name": "python"
    }
  },
  "cells": [
    {
      "cell_type": "markdown",
      "metadata": {
        "id": "view-in-github",
        "colab_type": "text"
      },
      "source": [
        "<a href=\"https://colab.research.google.com/github/Vinif43/paradigmas-de-linguagens-de-programacao/blob/main/PLP_Exercicios_Praticas_Programacao.ipynb\" target=\"_parent\"><img src=\"https://colab.research.google.com/assets/colab-badge.svg\" alt=\"Open In Colab\"/></a>"
      ]
    },
    {
      "cell_type": "code",
      "execution_count": null,
      "metadata": {
        "id": "X2pV8L25aYc-"
      },
      "outputs": [],
      "source": [
        "# Programa 01 - Linguagem Python\n",
        "# Autor - Vinicius Ferreira Marinho - Data: 18/08/2023\n",
        "\n"
      ]
    },
    {
      "cell_type": "markdown",
      "source": [
        "Descrição Narrativa: faça um programa que leia duas notas e calcule sua média, levando em consideração que para ser aprovado o aluno tem que ter média >= 7"
      ],
      "metadata": {
        "id": "ViDd1k_Xb3VO"
      }
    },
    {
      "cell_type": "code",
      "source": [
        "# Leitura dos Dados de Entrada\n",
        "Nota1 = (float(input(\"Informe o valor da primeira nota\")))\n",
        "Nota2 = (float(input(\"Informe o valor da segunda nota\")))\n",
        "Media = Nota1 + Nota2 / 2\n",
        "\n",
        "# Calcular a Média das Notas\n",
        "Media = (Nota1 + Nota2) / 2\n",
        "\n",
        "# Estrutura de Decisão com IF para verificar se o aluno foi aprovado ou reprovado\n",
        "if (Media >= 7):\n",
        "  rep = \"Aprovado\"\n",
        "else:\n",
        "  rep = \"Reprovado\"\n",
        "\n",
        "# Escreva os resultados obtidos\n",
        "print(\"O valor da Media é: \")\n",
        "print(Media)\n",
        "print(\"O Conceito do Aluno foi: \")\n",
        "print(rep)\n",
        "\n"
      ],
      "metadata": {
        "colab": {
          "base_uri": "https://localhost:8080/"
        },
        "id": "BYhBLhN2cX59",
        "outputId": "8bdc45c4-bcc6-4d6f-f5be-58909eb332ef"
      },
      "execution_count": 2,
      "outputs": [
        {
          "output_type": "stream",
          "name": "stdout",
          "text": [
            "Informe o valor da primeira nota: 5.5\n",
            "Informe o valor da segunda nota: 9.0\n",
            "O valor da Média é: 7.25\n",
            "O Conceito do Aluno foi: Aprovado\n"
          ]
        }
      ]
    },
    {
      "cell_type": "code",
      "source": [
        "## Modularizando o programa"
      ],
      "metadata": {
        "id": "xgxo-dW_jI7u"
      },
      "execution_count": null,
      "outputs": []
    },
    {
      "cell_type": "code",
      "source": [
        "# Criando o métedo para calcular a média.\n",
        "\n",
        "def calmedia(n1, n2):\n",
        "  return (n1+n2)/2"
      ],
      "metadata": {
        "id": "eRBw8g4MjkXu"
      },
      "execution_count": 4,
      "outputs": []
    },
    {
      "cell_type": "code",
      "source": [
        "#verficar a situação do aluno\n",
        "\n",
        "def verificarsitucao(media):\n",
        "  if (media >= 7):\n",
        "    return \"Aprovado\"\n",
        "  else:\n",
        "    return \"Reprovado\""
      ],
      "metadata": {
        "id": "y4fVlzLmk7Ve"
      },
      "execution_count": 5,
      "outputs": []
    },
    {
      "cell_type": "code",
      "source": [
        "# Leitura dos Dados de Entrada\n",
        "Nota1 = (float(input(\"Informe o valor da primeira nota: \")))\n",
        "Nota2 = (float(input(\"Informe o valor da segunda nota: \")))\n",
        "Media = Nota1 + Nota2 / 2\n",
        "\n",
        "# Calcular a Média das Notas\n",
        "med = calmedia(Nota1, Nota2)\n",
        "\n",
        "# Estrutura de Decisão com IF para verificar se o aluno foi aprovado ou reprovado\n",
        "resp = verificarsitucao(med)\n",
        "\n",
        "# Escreva os resultados obtidos\n",
        "print(\"O valor da Media é: \")\n",
        "print(med)\n",
        "print(\"O Conceito do Aluno foi: \")\n",
        "print(resp)\n"
      ],
      "metadata": {
        "colab": {
          "base_uri": "https://localhost:8080/"
        },
        "id": "_yofUSCGlab1",
        "outputId": "5d4f8183-3470-43e3-975e-544245acc4de"
      },
      "execution_count": 6,
      "outputs": [
        {
          "output_type": "stream",
          "name": "stdout",
          "text": [
            "Informe o valor da primeira nota5.5\n",
            "Informe o valor da segunda nota5.0\n",
            "O valor da Media é: \n",
            "5.25\n",
            "O Conceito do Aluno foi: \n",
            "Reprovado\n"
          ]
        }
      ]
    },
    {
      "cell_type": "code",
      "source": [
        "#desconto\n",
        "\n",
        "preco = float(input(\"Digite o preço da mercadoria: \"))\n",
        "desconto = float(input(\"Digite o porcentual de desconto: \"))\n",
        "valor_de_desconto = preco * desconto / 100\n",
        "a_pagar = preco - valor_de_desconto\n",
        "print(\"Um desconto de 5%.2f %% em uma mercadoria de R$ %7.2f\" % (desconto, preco))\n",
        "print(\"Vale R$ %7.2f.\" % valor_de_|desconto)\n",
        "print(\"O valor a pagar é de R$ %7.2f\" % a_pagar)"
      ],
      "metadata": {
        "id": "YZtovK3VpPmg"
      },
      "execution_count": null,
      "outputs": []
    }
  ]
}